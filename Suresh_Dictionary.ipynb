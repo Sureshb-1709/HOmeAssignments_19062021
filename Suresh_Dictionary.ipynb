{
 "cells": [
  {
   "cell_type": "markdown",
   "metadata": {
    "id": "24kR8DnAEDne"
   },
   "source": [
    "**[Slide No. 47]**\n",
    "\n",
    "1. Create a empty Dictionary and check its Data type."
   ]
  },
  {
   "cell_type": "code",
   "execution_count": 5,
   "metadata": {
    "id": "mHhKHu13oltD"
   },
   "outputs": [
    {
     "data": {
      "text/plain": [
       "dict"
      ]
     },
     "execution_count": 5,
     "metadata": {},
     "output_type": "execute_result"
    }
   ],
   "source": [
    "dict1={\"Mark1\":100,\"Mark2\":25,\"Mark3\":58}\n",
    "type(dict1)"
   ]
  },
  {
   "cell_type": "markdown",
   "metadata": {
    "id": "osWsIyfiENG9"
   },
   "source": [
    "**[Slide No.48]**\n",
    "\n",
    "2.  Write a Python program  to add a key to a dictionary\n",
    "\n",
    "Sample Dictionary : {0: 10, 1: 20}\n",
    "\n",
    "Expected Result : {0: 10, 1: 20, 2: 30}"
   ]
  },
  {
   "cell_type": "code",
   "execution_count": 11,
   "metadata": {
    "id": "pNtCGJmlolLo"
   },
   "outputs": [
    {
     "name": "stdout",
     "output_type": "stream",
     "text": [
      "{0: 10, 1: 20, 2: '30'}\n"
     ]
    }
   ],
   "source": [
    "dict1={0:10,1: 20}\n",
    "dict1[2]=\"30\"\n",
    "print(dict1)"
   ]
  },
  {
   "cell_type": "markdown",
   "metadata": {
    "id": "Zu0BHrf1Ej1d"
   },
   "source": [
    "**[Slide No. 48]**\n",
    "\n",
    "3.  Write a Python script to concatenate following dictionaries to create a new one.\n",
    "\n",
    "Sample Dictionary :\n",
    "\n",
    "dic1={1:10, 2:20}\n",
    "\n",
    "dic2={3:30, 4:40}\n",
    "\n",
    "dic3={5:50,6:60}\n",
    "\n",
    "Expected Result : {1: 10, 2: 20, 3: 30, 4: 40, 5: 50, 6: 60}"
   ]
  },
  {
   "cell_type": "code",
   "execution_count": 14,
   "metadata": {
    "id": "itk1nmgxomLv"
   },
   "outputs": [
    {
     "name": "stdout",
     "output_type": "stream",
     "text": [
      "{1: 10, 2: 20, 3: 30, 4: 40, 5: 50, 6: 60}\n"
     ]
    }
   ],
   "source": [
    "dic1={1:10, 2:20}\n",
    "\n",
    "dic2={3:30, 4:40}\n",
    "\n",
    "dic3={5:50,6:60}\n",
    "\n",
    "dic1.update(dic2)\n",
    "dic1.update(dic3)\n",
    "\n",
    "print(dic1)"
   ]
  },
  {
   "cell_type": "markdown",
   "metadata": {
    "id": "veyD5dq5E1N8"
   },
   "source": [
    "**[Slide No. 48]**\n",
    "\n",
    "4. Write a program to create Dictionary and add new item in it."
   ]
  },
  {
   "cell_type": "code",
   "execution_count": 16,
   "metadata": {
    "id": "9-WHcVwAomr6"
   },
   "outputs": [
    {
     "name": "stdout",
     "output_type": "stream",
     "text": [
      "{'Name': ['Guru'], 'Address': ['Mumbai'], 'Age': [30]}\n"
     ]
    }
   ],
   "source": [
    "my_dict = {\"Name\":[],\"Address\":[],\"Age\":[]};\n",
    "\n",
    "my_dict[\"Name\"].append(\"Guru\")\n",
    "my_dict[\"Address\"].append(\"Mumbai\")\n",
    "my_dict[\"Age\"].append(30)\t\n",
    "print(my_dict)\n"
   ]
  },
  {
   "cell_type": "markdown",
   "metadata": {
    "id": "RfJujduxFLpC"
   },
   "source": [
    "**[Slide No. 48]**\n",
    "\n",
    "5. Write a program to create Dictionary and delete the item at 3 index . "
   ]
  },
  {
   "cell_type": "code",
   "execution_count": 17,
   "metadata": {
    "id": "zSUrG-QDonHH"
   },
   "outputs": [
    {
     "name": "stdout",
     "output_type": "stream",
     "text": [
      "{1: 10, 2: 20, 4: 40, 5: 50}\n"
     ]
    }
   ],
   "source": [
    "dic1={1:10, 2:20,3:30,4:40,5:50}\n",
    "del dic1[3]\n",
    "print(dic1)"
   ]
  },
  {
   "cell_type": "markdown",
   "metadata": {
    "id": "zjee54MuFZZ7"
   },
   "source": [
    "**[Slide No. 48]**\n",
    "\n",
    "6. Write a program to create dictionary and delete last item from it."
   ]
  },
  {
   "cell_type": "code",
   "execution_count": 22,
   "metadata": {
    "id": "gVtqF24Wonln"
   },
   "outputs": [
    {
     "name": "stdout",
     "output_type": "stream",
     "text": [
      "5\n",
      "{1: 10, 2: 20, 3: 30, 4: 40}\n"
     ]
    }
   ],
   "source": [
    "dic1={1:10, 2:20,3:30,4:40,5:50}\n",
    "length=len(dic1)\n",
    "print(length)\n",
    "del dic1[length]\n",
    "print(dic1)"
   ]
  },
  {
   "cell_type": "markdown",
   "metadata": {
    "id": "R9W-fDghF002"
   },
   "source": [
    "**[Slide No. 49]**\n",
    "\n",
    "7. Create a dictionary and print the item at 2nd index value."
   ]
  },
  {
   "cell_type": "code",
   "execution_count": 23,
   "metadata": {
    "id": "seEctrJAon-3"
   },
   "outputs": [
    {
     "name": "stdout",
     "output_type": "stream",
     "text": [
      "20\n"
     ]
    }
   ],
   "source": [
    "dic1={1:10, 2:20,3:30,4:40,5:50}\n",
    "print(dic1[2])"
   ]
  },
  {
   "cell_type": "markdown",
   "metadata": {
    "id": "Hk9Oaiitvpu0"
   },
   "source": [
    "**[Slide No. 49]**\n",
    "\n",
    "8. Create a Dictionary and change the range of key value ."
   ]
  },
  {
   "cell_type": "code",
   "execution_count": 24,
   "metadata": {
    "id": "jtznb02Oh5rg"
   },
   "outputs": [
    {
     "name": "stdout",
     "output_type": "stream",
     "text": [
      "{1: 10, 2: 20, 3: 30, 4: 40, 5: 50}\n",
      "{1: 10, 2: 450, 3: 30, 4: 40, 5: 50}\n"
     ]
    }
   ],
   "source": [
    "dic1={1:10, 2:20,3:30,4:40,5:50}\n",
    "print(dic1)\n",
    "dic1[2]=450\n",
    "print(dic1)"
   ]
  },
  {
   "cell_type": "code",
   "execution_count": null,
   "metadata": {},
   "outputs": [],
   "source": []
  }
 ],
 "metadata": {
  "colab": {
   "collapsed_sections": [],
   "name": "Dictionary_assignment_solution.ipynb",
   "provenance": []
  },
  "kernelspec": {
   "display_name": "Python 3",
   "language": "python",
   "name": "python3"
  },
  "language_info": {
   "codemirror_mode": {
    "name": "ipython",
    "version": 3
   },
   "file_extension": ".py",
   "mimetype": "text/x-python",
   "name": "python",
   "nbconvert_exporter": "python",
   "pygments_lexer": "ipython3",
   "version": "3.8.8"
  }
 },
 "nbformat": 4,
 "nbformat_minor": 1
}
